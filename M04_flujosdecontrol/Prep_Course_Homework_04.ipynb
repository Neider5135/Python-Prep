{
 "cells": [
  {
   "attachments": {},
   "cell_type": "markdown",
   "metadata": {},
   "source": [
    "## Flujos de Control"
   ]
  },
  {
   "attachments": {},
   "cell_type": "markdown",
   "metadata": {},
   "source": [
    "1) Crear una variable que contenga un elemento del conjunto de números enteros y luego imprimir por pantalla si es mayor o menor a cero"
   ]
  },
  {
   "cell_type": "code",
   "execution_count": 9,
   "metadata": {},
   "outputs": [
    {
     "name": "stdout",
     "output_type": "stream",
     "text": [
      "Número es menor a 0\n"
     ]
    }
   ],
   "source": [
    "a = -1\n",
    "if (a > 0):\n",
    "    print ('número es mayor a 0')\n",
    "elif (a < 0):\n",
    "    print ('Número es menor a 0')\n",
    "else:\n",
    "    print ('El número es 0')"
   ]
  },
  {
   "attachments": {},
   "cell_type": "markdown",
   "metadata": {},
   "source": [
    "2) Crear dos variables y un condicional que informe si son del mismo tipo de dato"
   ]
  },
  {
   "cell_type": "code",
   "execution_count": 11,
   "metadata": {},
   "outputs": [
    {
     "name": "stdout",
     "output_type": "stream",
     "text": [
      "Las dos variables son del mismo tipo\n"
     ]
    }
   ],
   "source": [
    "a = 30\n",
    "b = 3\n",
    "if (type (a) == type (b)):\n",
    "    print ('Las dos variables son del mismo tipo')\n",
    "else :\n",
    "    print ('Las variables son de diferente tipo')"
   ]
  },
  {
   "attachments": {},
   "cell_type": "markdown",
   "metadata": {},
   "source": [
    "3) Para los valores enteros del 1 al 20, imprimir por pantalla si es par o impar"
   ]
  },
  {
   "cell_type": "code",
   "execution_count": 13,
   "metadata": {},
   "outputs": [
    {
     "name": "stdout",
     "output_type": "stream",
     "text": [
      "el número  1  es impar\n",
      "el número  2  es par\n",
      "el número  3  es impar\n",
      "el número  4  es par\n",
      "el número  5  es impar\n",
      "el número  6  es par\n",
      "el número  7  es impar\n",
      "el número  8  es par\n",
      "el número  9  es impar\n",
      "el número  10  es par\n",
      "el número  11  es impar\n",
      "el número  12  es par\n",
      "el número  13  es impar\n",
      "el número  14  es par\n",
      "el número  15  es impar\n",
      "el número  16  es par\n",
      "el número  17  es impar\n",
      "el número  18  es par\n",
      "el número  19  es impar\n",
      "el número  20  es par\n"
     ]
    }
   ],
   "source": [
    "n_enteros = range(1, 21)\n",
    "for numero in n_enteros:\n",
    "    if numero % 2 == 0:\n",
    "        print ('el número ', str(numero), ' es par')\n",
    "    else:\n",
    "        print ('el número ', str(numero), ' es impar')\n"
   ]
  },
  {
   "attachments": {},
   "cell_type": "markdown",
   "metadata": {},
   "source": [
    "4) En un ciclo for mostrar para los valores entre 0 y 5 el resultado de elevarlo a la potencia igual a 3"
   ]
  },
  {
   "cell_type": "code",
   "execution_count": 15,
   "metadata": {},
   "outputs": [
    {
     "name": "stdout",
     "output_type": "stream",
     "text": [
      "para  0  su potencia elevada a 3 es  0\n",
      "para  1  su potencia elevada a 3 es  1\n",
      "para  2  su potencia elevada a 3 es  8\n",
      "para  3  su potencia elevada a 3 es  27\n",
      "para  4  su potencia elevada a 3 es  64\n",
      "para  5  su potencia elevada a 3 es  125\n"
     ]
    }
   ],
   "source": [
    "for numero in range(0, 6):\n",
    "    print ('para ', str(numero), ' su potencia elevada a 3 es ', str(numero**3))"
   ]
  },
  {
   "attachments": {},
   "cell_type": "markdown",
   "metadata": {},
   "source": [
    "5) Crear una variable que contenga un número entero y realizar un ciclo for la misma cantidad de ciclos"
   ]
  },
  {
   "cell_type": "code",
   "execution_count": 21,
   "metadata": {},
   "outputs": [
    {
     "name": "stdout",
     "output_type": "stream",
     "text": [
      "11\n"
     ]
    }
   ],
   "source": [
    "a = 12\n",
    "for n in range(0, a):\n",
    "    pass\n",
    "print (n)"
   ]
  },
  {
   "attachments": {},
   "cell_type": "markdown",
   "metadata": {},
   "source": [
    "6) Utilizar un ciclo while para realizar el factorial de un número guardado en una variable, sólo si la variable contiene un número entero mayor a 0"
   ]
  },
  {
   "cell_type": "code",
   "execution_count": 46,
   "metadata": {},
   "outputs": [
    {
     "name": "stdout",
     "output_type": "stream",
     "text": [
      "el factorial es  120\n"
     ]
    }
   ],
   "source": [
    "a = 5\n",
    "if (type(a) == int):\n",
    "    if (a > 0):\n",
    "        factorial = a\n",
    "        while (a > 2):\n",
    "            a = a - 1\n",
    "            factorial = factorial * a\n",
    "        print ('el factorial es ', factorial)\n",
    "    else:\n",
    "        print ('el numero no es mayor a cero')\n",
    "else:\n",
    "    print ('El número no es un entero')"
   ]
  },
  {
   "attachments": {},
   "cell_type": "markdown",
   "metadata": {},
   "source": [
    "7) Crear un ciclo for dentro de un ciclo while"
   ]
  },
  {
   "cell_type": "code",
   "execution_count": 58,
   "metadata": {},
   "outputs": [
    {
     "name": "stdout",
     "output_type": "stream",
     "text": [
      "Ciclo while num 1\n",
      "ciclo for num  1\n",
      "Ciclo while num 2\n",
      "ciclo for num  1\n",
      "ciclo for num  2\n",
      "Ciclo while num 3\n",
      "ciclo for num  1\n",
      "ciclo for num  2\n",
      "ciclo for num  3\n",
      "Ciclo while num 4\n",
      "ciclo for num  1\n",
      "ciclo for num  2\n",
      "ciclo for num  3\n",
      "ciclo for num  4\n"
     ]
    }
   ],
   "source": [
    "n = 1\n",
    "while (n < 5):\n",
    "    print ('Ciclo while num ' + str(n))\n",
    "    for i in range (1, n + 1):\n",
    "        print ('ciclo for num ', str (i))\n",
    "    n += 1\n"
   ]
  },
  {
   "attachments": {},
   "cell_type": "markdown",
   "metadata": {},
   "source": [
    "8) Crear un ciclo while dentro de un ciclo for"
   ]
  },
  {
   "cell_type": "code",
   "execution_count": 35,
   "metadata": {},
   "outputs": [
    {
     "name": "stdout",
     "output_type": "stream",
     "text": [
      "Ciclo for num 1\n",
      "ciclo while num 4\n",
      "ciclo while num 3\n",
      "ciclo while num 2\n",
      "ciclo while num 1\n",
      "Ciclo for num 2\n",
      "ciclo while num 4\n",
      "ciclo while num 3\n",
      "ciclo while num 2\n",
      "ciclo while num 1\n",
      "Ciclo for num 3\n",
      "ciclo while num 4\n",
      "ciclo while num 3\n",
      "ciclo while num 2\n",
      "ciclo while num 1\n",
      "Ciclo for num 4\n",
      "ciclo while num 4\n",
      "ciclo while num 3\n",
      "ciclo while num 2\n",
      "ciclo while num 1\n"
     ]
    }
   ],
   "source": [
    "n = 5\n",
    "for i in range (1, n):\n",
    "    print ('Ciclo for num', str (i))\n",
    "    n_temp = n\n",
    "    while (n_temp > 0):\n",
    "        if (n == n_temp):\n",
    "                n_temp -= 1\n",
    "        print ('ciclo while num', str (n_temp))\n",
    "        n_temp -= 1\n",
    "        if (str (n) == str (0)):\n",
    "            break"
   ]
  },
  {
   "attachments": {},
   "cell_type": "markdown",
   "metadata": {},
   "source": [
    "9) Imprimir los números primos existentes entre 0 y 30"
   ]
  },
  {
   "cell_type": "code",
   "execution_count": 5,
   "metadata": {},
   "outputs": [
    {
     "name": "stdout",
     "output_type": "stream",
     "text": [
      "0\n",
      "1\n",
      "2\n",
      "3\n",
      "5\n",
      "7\n",
      "11\n",
      "13\n",
      "17\n",
      "19\n",
      "23\n",
      "29\n"
     ]
    }
   ],
   "source": [
    "Tope_de_rango = 30\n",
    "\n",
    "n = int (0)\n",
    "\n",
    "Primo = True\n",
    "\n",
    "while (n < Tope_de_rango):\n",
    "\n",
    "    for i in range (2, n):\n",
    "    \n",
    "        if (n % i == 0):\n",
    "    \n",
    "            Primo = False\n",
    "    \n",
    "    if Primo:\n",
    "    \n",
    "        print (n)\n",
    "    \n",
    "    else:\n",
    "    \n",
    "        Primo = True\n",
    "\n",
    "    n += 1"
   ]
  },
  {
   "attachments": {},
   "cell_type": "markdown",
   "metadata": {},
   "source": [
    "10) ¿Se puede mejorar el proceso del punto 9? Utilizar las sentencias break y/ó continue para tal fin"
   ]
  },
  {
   "cell_type": "code",
   "execution_count": 6,
   "metadata": {},
   "outputs": [
    {
     "name": "stdout",
     "output_type": "stream",
     "text": [
      "0\n",
      "1\n",
      "2\n",
      "3\n",
      "5\n",
      "7\n",
      "9\n",
      "11\n",
      "13\n",
      "15\n",
      "17\n",
      "19\n",
      "21\n",
      "23\n",
      "25\n",
      "27\n",
      "29\n"
     ]
    }
   ],
   "source": [
    "Tope_de_rango = 30\n",
    "\n",
    "n = int (0)\n",
    "\n",
    "Primo = True\n",
    "\n",
    "while (n < Tope_de_rango):\n",
    "\n",
    "    for i in range (2, n):\n",
    "    \n",
    "        if (n % i == 0):\n",
    "    \n",
    "            Primo = False\n",
    "    \n",
    "        break\n",
    "\n",
    "    if Primo:\n",
    "    \n",
    "        print (n)\n",
    "    \n",
    "    else:\n",
    "    \n",
    "        Primo = True\n",
    "\n",
    "    n += 1"
   ]
  },
  {
   "attachments": {},
   "cell_type": "markdown",
   "metadata": {},
   "source": [
    "11) En los puntos 9 y 10, se diseño un código que encuentra números primos y además se lo optimizó. ¿Es posible saber en qué medida se optimizó?"
   ]
  },
  {
   "cell_type": "code",
   "execution_count": 12,
   "metadata": {},
   "outputs": [
    {
     "name": "stdout",
     "output_type": "stream",
     "text": [
      "0\n",
      "1\n",
      "2\n",
      "3\n",
      "5\n",
      "7\n",
      "11\n",
      "13\n",
      "17\n",
      "19\n",
      "23\n",
      "29\n",
      "Ciclos sin break 378\n"
     ]
    }
   ],
   "source": [
    "ciclos_sin_break = 0\n",
    "\n",
    "Tope_de_rango = 30\n",
    "\n",
    "n = int (0)\n",
    "\n",
    "Primo = True\n",
    "\n",
    "while (n < Tope_de_rango):\n",
    "\n",
    "    for i in range (2, n):\n",
    "\n",
    "        ciclos_sin_break += 1\n",
    "    \n",
    "        if (n % i == 0):\n",
    "    \n",
    "            Primo = False\n",
    "\n",
    "    if Primo:\n",
    "    \n",
    "        print (n)\n",
    "    \n",
    "    else:\n",
    "    \n",
    "        Primo = True\n",
    "\n",
    "    n += 1\n",
    "\n",
    "print ('Ciclos sin break ' + str (ciclos_sin_break))"
   ]
  },
  {
   "cell_type": "code",
   "execution_count": 14,
   "metadata": {},
   "outputs": [
    {
     "name": "stdout",
     "output_type": "stream",
     "text": [
      "0\n",
      "1\n",
      "2\n",
      "3\n",
      "5\n",
      "7\n",
      "11\n",
      "13\n",
      "17\n",
      "19\n",
      "23\n",
      "29\n",
      "Ciclos con break 134\n",
      "El código se optimizó un  0.3544973544973545 % con respecto a su versión anterior\n"
     ]
    }
   ],
   "source": [
    "ciclos_con_break = 0\n",
    "\n",
    "Tope_de_rango = 30\n",
    "\n",
    "n = int (0)\n",
    "\n",
    "Primo = True\n",
    "\n",
    "while (n < Tope_de_rango):\n",
    "\n",
    "    for i in range (2, n):\n",
    "\n",
    "        ciclos_con_break += 1\n",
    "    \n",
    "        if (n % i == 0):\n",
    "    \n",
    "            Primo = False\n",
    "    \n",
    "            break\n",
    "\n",
    "    if Primo:\n",
    "    \n",
    "        print (n)\n",
    "    \n",
    "    else:\n",
    "    \n",
    "        Primo = True\n",
    "\n",
    "    n += 1\n",
    "\n",
    "print ('Ciclos con break ' + str (ciclos_con_break))\n",
    "\n",
    "print ('El código se optimizó un ', str (ciclos_con_break/ciclos_sin_break), '% con respecto a su versión anterior')"
   ]
  },
  {
   "attachments": {},
   "cell_type": "markdown",
   "metadata": {},
   "source": [
    "12) Aplicando continue, armar un ciclo while que solo imprima los valores divisibles por 12, dentro del rango de números de 100 a 300"
   ]
  },
  {
   "cell_type": "code",
   "execution_count": 17,
   "metadata": {},
   "outputs": [
    {
     "name": "stdout",
     "output_type": "stream",
     "text": [
      "108\n",
      "120\n",
      "132\n",
      "144\n",
      "156\n",
      "168\n",
      "180\n",
      "192\n",
      "204\n",
      "216\n",
      "228\n",
      "240\n",
      "252\n",
      "264\n",
      "276\n",
      "288\n",
      "300\n"
     ]
    }
   ],
   "source": [
    "n = 99\n",
    "\n",
    "while n <= 300:\n",
    "    \n",
    "    n += 1\n",
    "\n",
    "    if (n % 12 != 0):\n",
    "        \n",
    "        continue\n",
    "    \n",
    "    print (n)"
   ]
  },
  {
   "attachments": {},
   "cell_type": "markdown",
   "metadata": {},
   "source": [
    "13) Utilizar la función **input()** que permite hacer ingresos por teclado, para encontrar números primos y dar la opción al usario de buscar el siguiente"
   ]
  },
  {
   "cell_type": "code",
   "execution_count": 6,
   "metadata": {},
   "outputs": [
    {
     "name": "stdout",
     "output_type": "stream",
     "text": [
      "Desea hallar los números primos del 0 hasta el...\n",
      "0\n",
      "pulsa 1 para hallar el siguiente número primo\n",
      "1\n",
      "pulsa 1 para hallar el siguiente número primo\n",
      "2\n",
      "pulsa 1 para hallar el siguiente número primo\n",
      "3\n",
      "pulsa 1 para hallar el siguiente número primo\n",
      "5\n",
      "pulsa 1 para hallar el siguiente número primo\n",
      "7\n",
      "pulsa 1 para hallar el siguiente número primo\n",
      "11\n",
      "pulsa 1 para hallar el siguiente número primo\n",
      "13\n",
      "pulsa 1 para hallar el siguiente número primo\n",
      "17\n",
      "pulsa 1 para hallar el siguiente número primo\n",
      "19\n",
      "pulsa 1 para hallar el siguiente número primo\n",
      "23\n",
      "pulsa 1 para hallar el siguiente número primo\n",
      "29\n",
      "pulsa 1 para hallar el siguiente número primo\n",
      "31\n",
      "pulsa 1 para hallar el siguiente número primo\n",
      "37\n",
      "pulsa 1 para hallar el siguiente número primo\n"
     ]
    }
   ],
   "source": [
    "n = int (0)\n",
    "\n",
    "Primo = True\n",
    "\n",
    "print ('Desea hallar los números primos del 0 hasta el...')\n",
    "\n",
    "Tope_de_rango = int (input ())\n",
    "\n",
    "while (n < Tope_de_rango):\n",
    "\n",
    "    for i in range (2, n):\n",
    "    \n",
    "        if (n % i == 0):\n",
    "    \n",
    "            Primo = False\n",
    "    \n",
    "            break\n",
    "\n",
    "    if Primo:\n",
    "    \n",
    "        print (n)\n",
    "\n",
    "        print ('pulsa 1 para hallar el siguiente número primo')\n",
    "\n",
    "        if input () != '1':\n",
    "\n",
    "            print ('Finalizado')\n",
    "\n",
    "            break\n",
    "    \n",
    "    else:\n",
    "    \n",
    "        Primo = True\n",
    "\n",
    "    n += 1"
   ]
  },
  {
   "attachments": {},
   "cell_type": "markdown",
   "metadata": {},
   "source": [
    "14) Crear un ciclo while que encuentre dentro del rango de 100 a 300 el primer número divisible por 3 y además múltiplo de 6"
   ]
  },
  {
   "cell_type": "code",
   "execution_count": 10,
   "metadata": {},
   "outputs": [
    {
     "name": "stdout",
     "output_type": "stream",
     "text": [
      "102\n"
     ]
    }
   ],
   "source": [
    "n = 100\n",
    "\n",
    "while n < 300:\n",
    "    if n%3 == 0:\n",
    "\n",
    "        if n%6 == 0:\n",
    "            print (n)\n",
    "\n",
    "            break\n",
    "    else:\n",
    "\n",
    "        n += 1"
   ]
  }
 ],
 "metadata": {
  "interpreter": {
   "hash": "c85384e4cb51c8b72350f3a8712cc8351fdc3955e32a27f9b60c6242ab125f01"
  },
  "kernelspec": {
   "display_name": "Python 3 (ipykernel)",
   "language": "python",
   "name": "python3"
  },
  "language_info": {
   "codemirror_mode": {
    "name": "ipython",
    "version": 3
   },
   "file_extension": ".py",
   "mimetype": "text/x-python",
   "name": "python",
   "nbconvert_exporter": "python",
   "pygments_lexer": "ipython3",
   "version": "3.11.4"
  }
 },
 "nbformat": 4,
 "nbformat_minor": 4
}
