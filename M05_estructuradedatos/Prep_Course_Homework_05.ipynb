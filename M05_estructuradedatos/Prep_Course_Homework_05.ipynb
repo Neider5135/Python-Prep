{
 "cells": [
  {
   "attachments": {},
   "cell_type": "markdown",
   "metadata": {},
   "source": [
    "## Estructuras de Datos"
   ]
  },
  {
   "attachments": {},
   "cell_type": "markdown",
   "metadata": {},
   "source": [
    "1) Crear una lista que contenga nombres de ciudades del mundo que contenga más de 5 elementos e imprimir por pantalla"
   ]
  },
  {
   "cell_type": "code",
   "execution_count": 21,
   "metadata": {},
   "outputs": [
    {
     "data": {
      "text/plain": [
       "['medellín', 'brasilia', 'parís', 'caracas', 'ciudad de mexico']"
      ]
     },
     "execution_count": 21,
     "metadata": {},
     "output_type": "execute_result"
    }
   ],
   "source": [
    "Ciudades2 = ('medellín', 'brasilia', 'parís', 'caracas', 'ciudad de mexico')\n",
    "Ciudades = list(Ciudades2) # Convierto la tupla a lista, porque me dió flojera buscar los corchetes\n",
    "Ciudades"
   ]
  },
  {
   "attachments": {},
   "cell_type": "markdown",
   "metadata": {},
   "source": [
    "2) Imprimir por pantalla el segundo elemento de la lista"
   ]
  },
  {
   "cell_type": "code",
   "execution_count": 6,
   "metadata": {},
   "outputs": [
    {
     "data": {
      "text/plain": [
       "'brasilia'"
      ]
     },
     "execution_count": 6,
     "metadata": {},
     "output_type": "execute_result"
    }
   ],
   "source": [
    "Ciudades [1]"
   ]
  },
  {
   "attachments": {},
   "cell_type": "markdown",
   "metadata": {},
   "source": [
    "3) Imprimir por pantalla del segundo al cuarto elemento"
   ]
  },
  {
   "cell_type": "code",
   "execution_count": 7,
   "metadata": {},
   "outputs": [
    {
     "data": {
      "text/plain": [
       "['brasilia', 'parís', 'caracas']"
      ]
     },
     "execution_count": 7,
     "metadata": {},
     "output_type": "execute_result"
    }
   ],
   "source": [
    "Ciudades [1:4]"
   ]
  },
  {
   "attachments": {},
   "cell_type": "markdown",
   "metadata": {},
   "source": [
    "4) Visualizar el tipo de dato de la lista"
   ]
  },
  {
   "cell_type": "code",
   "execution_count": 8,
   "metadata": {},
   "outputs": [
    {
     "data": {
      "text/plain": [
       "list"
      ]
     },
     "execution_count": 8,
     "metadata": {},
     "output_type": "execute_result"
    }
   ],
   "source": [
    "type (Ciudades)"
   ]
  },
  {
   "attachments": {},
   "cell_type": "markdown",
   "metadata": {},
   "source": [
    "5) Visualizar todos los elementos de la lista a partir del tercero de manera genérica, es decir, sin explicitar la posición del último elemento"
   ]
  },
  {
   "cell_type": "code",
   "execution_count": 9,
   "metadata": {},
   "outputs": [
    {
     "data": {
      "text/plain": [
       "['parís', 'caracas', 'ciudad de mexico']"
      ]
     },
     "execution_count": 9,
     "metadata": {},
     "output_type": "execute_result"
    }
   ],
   "source": [
    "Ciudades[2:]"
   ]
  },
  {
   "attachments": {},
   "cell_type": "markdown",
   "metadata": {},
   "source": [
    "6) Visualizar los primeros 4 elementos de la lista"
   ]
  },
  {
   "cell_type": "code",
   "execution_count": 11,
   "metadata": {},
   "outputs": [
    {
     "data": {
      "text/plain": [
       "['medellín', 'brasilia', 'parís', 'caracas']"
      ]
     },
     "execution_count": 11,
     "metadata": {},
     "output_type": "execute_result"
    }
   ],
   "source": [
    "Ciudades[:4]"
   ]
  },
  {
   "attachments": {},
   "cell_type": "markdown",
   "metadata": {},
   "source": [
    "7) Agregar una ciudad más a la lista que ya exista y otra que no ¿Arroja algún tipo de error?"
   ]
  },
  {
   "cell_type": "code",
   "execution_count": 22,
   "metadata": {},
   "outputs": [
    {
     "data": {
      "text/plain": [
       "['medellín',\n",
       " 'brasilia',\n",
       " 'parís',\n",
       " 'caracas',\n",
       " 'ciudad de mexico',\n",
       " 'caracas',\n",
       " 'honduras']"
      ]
     },
     "execution_count": 22,
     "metadata": {},
     "output_type": "execute_result"
    }
   ],
   "source": [
    "Ciudades.append ('caracas')\n",
    "Ciudades.append ('honduras')\n",
    "Ciudades"
   ]
  },
  {
   "attachments": {},
   "cell_type": "markdown",
   "metadata": {},
   "source": [
    "8) Agregar otra ciudad, pero en la cuarta posición"
   ]
  },
  {
   "cell_type": "code",
   "execution_count": 23,
   "metadata": {},
   "outputs": [
    {
     "data": {
      "text/plain": [
       "['medellín',\n",
       " 'brasilia',\n",
       " 'parís',\n",
       " 'nueva york',\n",
       " 'caracas',\n",
       " 'ciudad de mexico',\n",
       " 'caracas',\n",
       " 'honduras']"
      ]
     },
     "execution_count": 23,
     "metadata": {},
     "output_type": "execute_result"
    }
   ],
   "source": [
    "Ciudades.insert(3, 'nueva york')\n",
    "Ciudades"
   ]
  },
  {
   "attachments": {},
   "cell_type": "markdown",
   "metadata": {},
   "source": [
    "9) Concatenar otra lista a la ya creada"
   ]
  },
  {
   "cell_type": "code",
   "execution_count": 24,
   "metadata": {},
   "outputs": [
    {
     "data": {
      "text/plain": [
       "['medellín',\n",
       " 'brasilia',\n",
       " 'parís',\n",
       " 'nueva york',\n",
       " 'caracas',\n",
       " 'ciudad de mexico',\n",
       " 'caracas',\n",
       " 'honduras',\n",
       " 'bogotá',\n",
       " 'cali',\n",
       " 'maracaibo',\n",
       " 'quebec']"
      ]
     },
     "execution_count": 24,
     "metadata": {},
     "output_type": "execute_result"
    }
   ],
   "source": [
    "Ciudades1 = ['bogotá', 'cali', 'maracaibo', 'quebec']\n",
    "Ciudades.extend(Ciudades1)\n",
    "Ciudades"
   ]
  },
  {
   "attachments": {},
   "cell_type": "markdown",
   "metadata": {},
   "source": [
    "10) Encontrar el índice de la ciudad que en el punto 7 agregamos duplicada. ¿Se nota alguna particularidad?"
   ]
  },
  {
   "cell_type": "code",
   "execution_count": 27,
   "metadata": {},
   "outputs": [
    {
     "data": {
      "text/plain": [
       "4"
      ]
     },
     "execution_count": 27,
     "metadata": {},
     "output_type": "execute_result"
    }
   ],
   "source": [
    "Ciudades.index('caracas')"
   ]
  },
  {
   "attachments": {},
   "cell_type": "markdown",
   "metadata": {},
   "source": [
    "11) ¿Qué pasa si se busca un elemento que no existe?"
   ]
  },
  {
   "cell_type": "code",
   "execution_count": 28,
   "metadata": {},
   "outputs": [
    {
     "ename": "ValueError",
     "evalue": "'caledonia' is not in list",
     "output_type": "error",
     "traceback": [
      "\u001b[1;31m---------------------------------------------------------------------------\u001b[0m",
      "\u001b[1;31mValueError\u001b[0m                                Traceback (most recent call last)",
      "\u001b[1;32mc:\\Users\\Pc-sala\\Desktop\\Python-Prep\\M05_estructuradedatos\\Prep_Course_Homework_05.ipynb Celda 23\u001b[0m line \u001b[0;36m1\n\u001b[1;32m----> <a href='vscode-notebook-cell:/c%3A/Users/Pc-sala/Desktop/Python-Prep/M05_estructuradedatos/Prep_Course_Homework_05.ipynb#X31sZmlsZQ%3D%3D?line=0'>1</a>\u001b[0m Ciudades\u001b[39m.\u001b[39;49mindex(\u001b[39m'\u001b[39;49m\u001b[39mcaledonia\u001b[39;49m\u001b[39m'\u001b[39;49m)\n",
      "\u001b[1;31mValueError\u001b[0m: 'caledonia' is not in list"
     ]
    }
   ],
   "source": [
    "Ciudades.index('caledonia')"
   ]
  },
  {
   "attachments": {},
   "cell_type": "markdown",
   "metadata": {},
   "source": [
    "12) Eliminar un elemento de la lista"
   ]
  },
  {
   "cell_type": "code",
   "execution_count": 32,
   "metadata": {},
   "outputs": [
    {
     "data": {
      "text/plain": [
       "['medellín',\n",
       " 'brasilia',\n",
       " 'parís',\n",
       " 'nueva york',\n",
       " 'ciudad de mexico',\n",
       " 'honduras',\n",
       " 'bogotá',\n",
       " 'cali',\n",
       " 'maracaibo',\n",
       " 'quebec',\n",
       " 'caracas']"
      ]
     },
     "execution_count": 32,
     "metadata": {},
     "output_type": "execute_result"
    }
   ],
   "source": [
    "Ciudades.remove ('caracas')\n",
    "Ciudades"
   ]
  },
  {
   "attachments": {},
   "cell_type": "markdown",
   "metadata": {},
   "source": [
    "13) ¿Qué pasa si el elemento a eliminar no existe?"
   ]
  },
  {
   "cell_type": "code",
   "execution_count": 33,
   "metadata": {},
   "outputs": [
    {
     "ename": "IndexError",
     "evalue": "list assignment index out of range",
     "output_type": "error",
     "traceback": [
      "\u001b[1;31m---------------------------------------------------------------------------\u001b[0m",
      "\u001b[1;31mIndexError\u001b[0m                                Traceback (most recent call last)",
      "\u001b[1;32mc:\\Users\\Pc-sala\\Desktop\\Python-Prep\\M05_estructuradedatos\\Prep_Course_Homework_05.ipynb Celda 27\u001b[0m line \u001b[0;36m1\n\u001b[1;32m----> <a href='vscode-notebook-cell:/c%3A/Users/Pc-sala/Desktop/Python-Prep/M05_estructuradedatos/Prep_Course_Homework_05.ipynb#X35sZmlsZQ%3D%3D?line=0'>1</a>\u001b[0m \u001b[39mdel\u001b[39;00m Ciudades[\u001b[39m11\u001b[39;49m]\n",
      "\u001b[1;31mIndexError\u001b[0m: list assignment index out of range"
     ]
    }
   ],
   "source": [
    "del Ciudades[11]"
   ]
  },
  {
   "attachments": {},
   "cell_type": "markdown",
   "metadata": {},
   "source": [
    "14) Extraer el úlimo elemento de la lista, guardarlo en una variable e imprimirlo"
   ]
  },
  {
   "cell_type": "code",
   "execution_count": 38,
   "metadata": {},
   "outputs": [
    {
     "data": {
      "text/plain": [
       "'caracas'"
      ]
     },
     "execution_count": 38,
     "metadata": {},
     "output_type": "execute_result"
    }
   ],
   "source": [
    "último = Ciudades [-1]\n",
    "último"
   ]
  },
  {
   "attachments": {},
   "cell_type": "markdown",
   "metadata": {},
   "source": [
    "15) Mostrar la lista multiplicada por 4"
   ]
  },
  {
   "cell_type": "code",
   "execution_count": 39,
   "metadata": {},
   "outputs": [
    {
     "data": {
      "text/plain": [
       "['medellín',\n",
       " 'brasilia',\n",
       " 'parís',\n",
       " 'nueva york',\n",
       " 'ciudad de mexico',\n",
       " 'honduras',\n",
       " 'bogotá',\n",
       " 'cali',\n",
       " 'maracaibo',\n",
       " 'quebec',\n",
       " 'caracas',\n",
       " 'medellín',\n",
       " 'brasilia',\n",
       " 'parís',\n",
       " 'nueva york',\n",
       " 'ciudad de mexico',\n",
       " 'honduras',\n",
       " 'bogotá',\n",
       " 'cali',\n",
       " 'maracaibo',\n",
       " 'quebec',\n",
       " 'caracas',\n",
       " 'medellín',\n",
       " 'brasilia',\n",
       " 'parís',\n",
       " 'nueva york',\n",
       " 'ciudad de mexico',\n",
       " 'honduras',\n",
       " 'bogotá',\n",
       " 'cali',\n",
       " 'maracaibo',\n",
       " 'quebec',\n",
       " 'caracas',\n",
       " 'medellín',\n",
       " 'brasilia',\n",
       " 'parís',\n",
       " 'nueva york',\n",
       " 'ciudad de mexico',\n",
       " 'honduras',\n",
       " 'bogotá',\n",
       " 'cali',\n",
       " 'maracaibo',\n",
       " 'quebec',\n",
       " 'caracas']"
      ]
     },
     "execution_count": 39,
     "metadata": {},
     "output_type": "execute_result"
    }
   ],
   "source": [
    "Ciudades * 4"
   ]
  },
  {
   "attachments": {},
   "cell_type": "markdown",
   "metadata": {},
   "source": [
    "16) Crear una tupla que contenga los números enteros del 1 al 20"
   ]
  },
  {
   "cell_type": "code",
   "execution_count": 48,
   "metadata": {},
   "outputs": [
    {
     "data": {
      "text/plain": [
       "(1, 2, 3, 4, 5, 6, 7, 8, 9, 10, 11, 12, 13, 14, 15, 16, 17, 18, 19, 20)"
      ]
     },
     "execution_count": 48,
     "metadata": {},
     "output_type": "execute_result"
    }
   ],
   "source": [
    "Números = (1, 2, 3, 4, 5, 6, 7, 8, 9, 10, 11, 12, 13, 14, 15, 16, 17, 18, 19, 20)\n",
    "Números\n"
   ]
  },
  {
   "attachments": {},
   "cell_type": "markdown",
   "metadata": {},
   "source": [
    "17) Imprimir desde el índice 10 al 15 de la tupla"
   ]
  },
  {
   "cell_type": "code",
   "execution_count": 51,
   "metadata": {},
   "outputs": [
    {
     "name": "stdout",
     "output_type": "stream",
     "text": [
      "10\n",
      "11\n",
      "12\n",
      "13\n",
      "14\n",
      "15\n",
      "16\n",
      "17\n",
      "18\n",
      "19\n",
      "20\n"
     ]
    }
   ],
   "source": [
    "for i in Números:\n",
    "    if i > 9:\n",
    "        print (i)\n",
    "    elif i > 20:\n",
    "        break"
   ]
  },
  {
   "attachments": {},
   "cell_type": "markdown",
   "metadata": {},
   "source": [
    "18) Evaluar si los números 20 y 30 están dentro de la tupla"
   ]
  },
  {
   "cell_type": "code",
   "execution_count": 57,
   "metadata": {},
   "outputs": [
    {
     "data": {
      "text/plain": [
       "[19]"
      ]
     },
     "execution_count": 57,
     "metadata": {},
     "output_type": "execute_result"
    }
   ],
   "source": [
    "[i for i, e in enumerate(Números) if e == 30]\n",
    "[i for i, e in enumerate(Números) if e == 20]"
   ]
  },
  {
   "attachments": {},
   "cell_type": "markdown",
   "metadata": {},
   "source": [
    "19) Con la lista creada en el punto 1, validar la existencia del elemento 'París' y si no existe, agregarlo. Utilizar una variable e informar lo sucedido."
   ]
  },
  {
   "cell_type": "code",
   "execution_count": 63,
   "metadata": {},
   "outputs": [
    {
     "data": {
      "text/plain": [
       "2"
      ]
     },
     "execution_count": 63,
     "metadata": {},
     "output_type": "execute_result"
    }
   ],
   "source": [
    "Agregar = Ciudades2.index('parís') # se busca la ciudad parís\n",
    "Agregar"
   ]
  },
  {
   "attachments": {},
   "cell_type": "markdown",
   "metadata": {},
   "source": [
    "20) Mostrar la cantidad de veces que se encuentra un elemento específico dentro de la tupla y de la lista"
   ]
  },
  {
   "cell_type": "code",
   "execution_count": 66,
   "metadata": {},
   "outputs": [
    {
     "data": {
      "text/plain": [
       "1"
      ]
     },
     "execution_count": 66,
     "metadata": {},
     "output_type": "execute_result"
    }
   ],
   "source": [
    "Ciudades.count ('medellín')"
   ]
  },
  {
   "attachments": {},
   "cell_type": "markdown",
   "metadata": {},
   "source": [
    "21) Convertir la tupla en una lista"
   ]
  },
  {
   "cell_type": "code",
   "execution_count": 78,
   "metadata": {},
   "outputs": [
    {
     "data": {
      "text/plain": [
       "[1, 2, 3, 4, 5, 6, 7, 8, 9, 10, 11, 12, 13, 14, 15, 16, 17, 18, 19, 20]"
      ]
     },
     "execution_count": 78,
     "metadata": {},
     "output_type": "execute_result"
    }
   ],
   "source": [
    "Números = list(Números)\n",
    "Números\n"
   ]
  },
  {
   "attachments": {},
   "cell_type": "markdown",
   "metadata": {},
   "source": [
    "22) Desempaquetar solo los primeros 3 elementos de la tupla en 3 variables"
   ]
  },
  {
   "cell_type": "code",
   "execution_count": 71,
   "metadata": {},
   "outputs": [
    {
     "data": {
      "text/plain": [
       "(1, 2, 3, 4, 5, 6, 7, 8, 9, 10, 11, 12, 13, 14, 15, 16, 17, 18, 19, 20)"
      ]
     },
     "execution_count": 71,
     "metadata": {},
     "output_type": "execute_result"
    }
   ],
   "source": [
    "Números = tuple(Números)\n",
    "Números"
   ]
  },
  {
   "cell_type": "code",
   "execution_count": 80,
   "metadata": {},
   "outputs": [
    {
     "data": {
      "text/plain": [
       "1"
      ]
     },
     "execution_count": 80,
     "metadata": {},
     "output_type": "execute_result"
    }
   ],
   "source": [
    "primero, segundo, tercero = Números [:3]\n",
    "primero"
   ]
  },
  {
   "attachments": {},
   "cell_type": "markdown",
   "metadata": {},
   "source": [
    "23) Crear un diccionario utilizando la lista crada en el punto 1, asignandole la clave \"ciudad\". Agregar tambien otras claves, como puede ser \"Pais\" y \"Continente\"."
   ]
  },
  {
   "cell_type": "code",
   "execution_count": 83,
   "metadata": {},
   "outputs": [],
   "source": [
    "Dic = {'Ciudad':Ciudades, 'País':['colombia','brazil','italia','EEUU','mexico','honduras','colombia','colombia','venezuela','canadá','venezuela'], 'Continente': ['america','america','europa','america','america','america','america','america','america','america','america']}"
   ]
  },
  {
   "attachments": {},
   "cell_type": "markdown",
   "metadata": {},
   "source": [
    "24) Imprimir las claves del diccionario"
   ]
  },
  {
   "cell_type": "code",
   "execution_count": 89,
   "metadata": {},
   "outputs": [
    {
     "data": {
      "text/plain": [
       "dict_keys(['Ciudad', 'País', 'Continente'])"
      ]
     },
     "execution_count": 89,
     "metadata": {},
     "output_type": "execute_result"
    }
   ],
   "source": [
    "Dic.keys()"
   ]
  },
  {
   "attachments": {},
   "cell_type": "markdown",
   "metadata": {},
   "source": [
    "25) Imprimir las ciudades a través de su clave"
   ]
  },
  {
   "cell_type": "code",
   "execution_count": 90,
   "metadata": {},
   "outputs": [
    {
     "name": "stdout",
     "output_type": "stream",
     "text": [
      "['medellín', 'brasilia', 'parís', 'nueva york', 'ciudad de mexico', 'honduras', 'bogotá', 'cali', 'maracaibo', 'quebec', 'caracas']\n"
     ]
    }
   ],
   "source": [
    "print (Dic ['Ciudad'])"
   ]
  }
 ],
 "metadata": {
  "interpreter": {
   "hash": "c85384e4cb51c8b72350f3a8712cc8351fdc3955e32a27f9b60c6242ab125f01"
  },
  "kernelspec": {
   "display_name": "Python 3 (ipykernel)",
   "language": "python",
   "name": "python3"
  },
  "language_info": {
   "codemirror_mode": {
    "name": "ipython",
    "version": 3
   },
   "file_extension": ".py",
   "mimetype": "text/x-python",
   "name": "python",
   "nbconvert_exporter": "python",
   "pygments_lexer": "ipython3",
   "version": "3.11.5"
  }
 },
 "nbformat": 4,
 "nbformat_minor": 4
}
