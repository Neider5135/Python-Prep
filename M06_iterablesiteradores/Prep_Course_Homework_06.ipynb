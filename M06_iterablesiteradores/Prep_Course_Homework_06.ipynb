{
 "cells": [
  {
   "attachments": {},
   "cell_type": "markdown",
   "metadata": {},
   "source": [
    "## Iteradores e iterables"
   ]
  },
  {
   "attachments": {},
   "cell_type": "markdown",
   "metadata": {},
   "source": [
    "1) A partir de una lista vacía, utilizar un ciclo while para cargar allí números negativos del -15 al -1"
   ]
  },
  {
   "cell_type": "code",
   "execution_count": 2,
   "metadata": {},
   "outputs": [],
   "source": [
    "Lista= list ()\n",
    "n = 0\n",
    "while n > -15:\n",
    "    n -= 1\n",
    "    Lista.append(n)\n"
   ]
  },
  {
   "cell_type": "code",
   "execution_count": 3,
   "metadata": {},
   "outputs": [
    {
     "name": "stdout",
     "output_type": "stream",
     "text": [
      "[-1, -2, -3, -4, -5, -6, -7, -8, -9, -10, -11, -12, -13, -14, -15]\n"
     ]
    }
   ],
   "source": [
    "print (Lista)"
   ]
  },
  {
   "attachments": {},
   "cell_type": "markdown",
   "metadata": {},
   "source": [
    "2) ¿Con un ciclo while sería posible recorrer la lista para imprimir sólo los números pares?"
   ]
  },
  {
   "cell_type": "code",
   "execution_count": 4,
   "metadata": {},
   "outputs": [
    {
     "name": "stdout",
     "output_type": "stream",
     "text": [
      "-2\n",
      "-4\n",
      "-6\n",
      "-8\n",
      "-10\n",
      "-12\n",
      "-14\n"
     ]
    }
   ],
   "source": [
    "n = 0\n",
    "while n < len (Lista):\n",
    "    if Lista[n] % 2 ==0:\n",
    "        print (Lista [n])\n",
    "    n += 1"
   ]
  },
  {
   "attachments": {},
   "cell_type": "markdown",
   "metadata": {},
   "source": [
    "3) Resolver el punto anterior sin utilizar un ciclo while"
   ]
  },
  {
   "cell_type": "code",
   "execution_count": 5,
   "metadata": {},
   "outputs": [
    {
     "name": "stdout",
     "output_type": "stream",
     "text": [
      "-2\n",
      "-4\n",
      "-6\n",
      "-8\n",
      "-10\n",
      "-12\n",
      "-14\n"
     ]
    }
   ],
   "source": [
    "for n in Lista:\n",
    "    if n % 2 == 0:\n",
    "        print (n)\n",
    "    n -= 1"
   ]
  },
  {
   "attachments": {},
   "cell_type": "markdown",
   "metadata": {},
   "source": [
    "4) Utilizar el iterable para recorrer sólo los primeros 3 elementos"
   ]
  },
  {
   "cell_type": "code",
   "execution_count": 6,
   "metadata": {},
   "outputs": [
    {
     "name": "stdout",
     "output_type": "stream",
     "text": [
      "-1\n",
      "-2\n",
      "-3\n"
     ]
    }
   ],
   "source": [
    "for n in Lista [:3]:\n",
    "    print (n)"
   ]
  },
  {
   "attachments": {},
   "cell_type": "markdown",
   "metadata": {},
   "source": [
    "5) Utilizar la función **enumerate** para obtener dentro del iterable, tambien el índice al que corresponde el elemento"
   ]
  },
  {
   "cell_type": "code",
   "execution_count": 7,
   "metadata": {},
   "outputs": [
    {
     "name": "stdout",
     "output_type": "stream",
     "text": [
      "0 -1\n",
      "1 -2\n",
      "2 -3\n",
      "3 -4\n",
      "4 -5\n",
      "5 -6\n",
      "6 -7\n",
      "7 -8\n",
      "8 -9\n",
      "9 -10\n",
      "10 -11\n",
      "11 -12\n",
      "12 -13\n",
      "13 -14\n",
      "14 -15\n"
     ]
    }
   ],
   "source": [
    "for n, i in enumerate (Lista):\n",
    "    print (n, i)"
   ]
  },
  {
   "attachments": {},
   "cell_type": "markdown",
   "metadata": {},
   "source": [
    "6) Dada la siguiente lista de números enteros entre 1 y 20, crear un ciclo donde se completen los valores faltantes: lista = [1,2,5,7,8,10,13,14,15,17,20]"
   ]
  },
  {
   "cell_type": "code",
   "execution_count": 8,
   "metadata": {},
   "outputs": [
    {
     "name": "stdout",
     "output_type": "stream",
     "text": [
      "[1, 2, 3, 4, 5, 6, 7, 8, 9, 10, 11, 12, 13, 14, 15, 16, 17, 18, 19, 20]\n"
     ]
    }
   ],
   "source": [
    "lista = [1,2,5,7,8,10,13,14,15,17,20]\n",
    "n = 1\n",
    "while n <= 20:\n",
    "    if not n in lista:\n",
    "        lista.insert (n-1, n)\n",
    "    n +=1\n",
    "print (lista)"
   ]
  },
  {
   "attachments": {},
   "cell_type": "markdown",
   "metadata": {},
   "source": [
    "7) La sucesión de Fibonacci es un listado de números que sigue la fórmula: <br>\n",
    "n<sub>0</sub> = 0<br>\n",
    "n<sub>1</sub> = 1<br>\n",
    "n<sub>i</sub> = n<sub>i-1</sub> + n<sub>i-2</sub><br>\n",
    "Crear una lista con los primeros treinta números de la sucesión.<br>"
   ]
  },
  {
   "cell_type": "code",
   "execution_count": 9,
   "metadata": {},
   "outputs": [
    {
     "name": "stdout",
     "output_type": "stream",
     "text": [
      "[0, 1, 1, 2, 3, 5, 8, 13, 21, 34, 55, 89, 144, 233, 377, 610, 987, 1597, 2584, 4181, 6765, 10946, 17711, 28657, 46368, 75025, 121393, 196418, 317811, 514229]\n"
     ]
    }
   ],
   "source": [
    "f = [0, 1]\n",
    "n = 2\n",
    "while n < 30:\n",
    "    f.append (f[n-1] + f[n-2])\n",
    "    n +=1\n",
    "print (f)"
   ]
  },
  {
   "attachments": {},
   "cell_type": "markdown",
   "metadata": {},
   "source": [
    "8) Realizar la suma de todos elementos de la lista del punto anterior"
   ]
  },
  {
   "cell_type": "code",
   "execution_count": 10,
   "metadata": {},
   "outputs": [
    {
     "data": {
      "text/plain": [
       "1346268"
      ]
     },
     "execution_count": 10,
     "metadata": {},
     "output_type": "execute_result"
    }
   ],
   "source": [
    "sum (f)"
   ]
  },
  {
   "attachments": {},
   "cell_type": "markdown",
   "metadata": {},
   "source": [
    "9) La proporción aurea se expresa con una proporción matemática que nace el número irracional Phi= 1,618… que los griegos llamaron número áureo. El cuál se puede aproximar con la sucesión de Fibonacci. Con la lista del ejercicio anterior, imprimir el cociente de los últimos 5 pares de dos números contiguos:<br>\n",
    "Donde i es la cantidad total de elementos<br>\n",
    "n<sub>i-1</sub> / n<sub>i</sub><br>\n",
    "n<sub>i-2</sub> / n<sub>i-1</sub><br>\n",
    "n<sub>i-3</sub> / n<sub>i-2</sub><br>\n",
    "n<sub>i-4</sub> / n<sub>i-3</sub><br>\n",
    "n<sub>i-5</sub> / n<sub>i-4</sub><br>\n",
    " "
   ]
  },
  {
   "cell_type": "code",
   "execution_count": 11,
   "metadata": {},
   "outputs": [
    {
     "name": "stdout",
     "output_type": "stream",
     "text": [
      "1.6176470588235294\n",
      "1.6181818181818182\n",
      "1.6179775280898876\n",
      "1.6180555555555556\n",
      "1.6180257510729614\n"
     ]
    }
   ],
   "source": [
    "primeros = 15\n",
    "n = primeros - 5\n",
    "while n < primeros:\n",
    "    print (f [n] / f [n - 1])\n",
    "    n += 1"
   ]
  },
  {
   "attachments": {},
   "cell_type": "markdown",
   "metadata": {},
   "source": [
    "10) A partir de la variable cadena ya dada, mostrar en qué posiciones aparece la letra \"n\"<br>\n",
    "cadena = 'Hola Mundo. Esto es una practica del lenguaje de programación Python'"
   ]
  },
  {
   "cell_type": "code",
   "execution_count": 12,
   "metadata": {},
   "outputs": [
    {
     "name": "stdout",
     "output_type": "stream",
     "text": [
      "7\n",
      "21\n",
      "39\n",
      "60\n",
      "67\n"
     ]
    }
   ],
   "source": [
    "cadena = 'Hola Mundo. Esto es una practica del lenguaje de programación Python'\n",
    "for i, n in enumerate (cadena):\n",
    "    if n == 'n':\n",
    "        print (i)"
   ]
  },
  {
   "attachments": {},
   "cell_type": "markdown",
   "metadata": {},
   "source": [
    "11) Crear un diccionario e imprimir sus claves utilizando un iterador"
   ]
  },
  {
   "cell_type": "code",
   "execution_count": 13,
   "metadata": {},
   "outputs": [
    {
     "name": "stdout",
     "output_type": "stream",
     "text": [
      "Ciudad\n",
      "País\n",
      "Continente\n"
     ]
    }
   ],
   "source": [
    "dicc = {\n",
    "    'Ciudad': ['Buenos Aires', 'Caracas', 'Bogotá', 'Lisboa', 'Roma'],\n",
    "    'País': ['Argentina', 'Venezuela', 'Colombia', 'Portugal', 'Italia'],\n",
    "    'Continente': ['América', 'América', 'América', 'Europa', 'Europa']\n",
    "}\n",
    "\n",
    "for i in dicc:\n",
    "    print(i)  \n"
   ]
  },
  {
   "attachments": {},
   "cell_type": "markdown",
   "metadata": {},
   "source": [
    "12) Convertir en una lista la variable \"cadena\" del punto 10 y luego recorrerla con un iterador "
   ]
  },
  {
   "cell_type": "code",
   "execution_count": 15,
   "metadata": {},
   "outputs": [
    {
     "name": "stdout",
     "output_type": "stream",
     "text": [
      "H\n",
      "o\n",
      "l\n",
      "a\n",
      " \n",
      "M\n",
      "u\n",
      "n\n",
      "d\n",
      "o\n",
      ".\n",
      " \n",
      "E\n",
      "s\n",
      "t\n",
      "o\n",
      " \n",
      "e\n",
      "s\n",
      " \n",
      "u\n",
      "n\n",
      "a\n",
      " \n",
      "p\n",
      "r\n",
      "a\n",
      "c\n",
      "t\n",
      "i\n",
      "c\n",
      "a\n",
      " \n",
      "d\n",
      "e\n",
      "l\n",
      " \n",
      "l\n",
      "e\n",
      "n\n",
      "g\n",
      "u\n",
      "a\n",
      "j\n",
      "e\n",
      " \n",
      "d\n",
      "e\n",
      " \n",
      "p\n",
      "r\n",
      "o\n",
      "g\n",
      "r\n",
      "a\n",
      "m\n",
      "a\n",
      "c\n",
      "i\n",
      "ó\n",
      "n\n",
      " \n",
      "P\n",
      "y\n",
      "t\n",
      "h\n",
      "o\n",
      "n\n"
     ]
    }
   ],
   "source": [
    "list (cadena)\n",
    "for i in cadena:\n",
    "    print (i)"
   ]
  },
  {
   "attachments": {},
   "cell_type": "markdown",
   "metadata": {},
   "source": [
    "13) Crear dos listas y unirlas en una tupla utilizando la función zip"
   ]
  },
  {
   "cell_type": "code",
   "execution_count": 30,
   "metadata": {},
   "outputs": [
    {
     "name": "stdout",
     "output_type": "stream",
     "text": [
      "[1, 2, 3, 4, 5, 6, 7, 8, 9, 10, 11, 12, 13, 14, 15, 16, 17, 18, 19, 20, 21, 22, 23, 24, 25, 26, 27, 28, 29, 30, 31, 32, 33, 34, 35, 36, 37, 38, 39, 40, 41, 42, 43, 44, 45, 46, 47, 48, 49, 50, 51, 52, 53, 54, 55, 56, 57, 58, 59, 60, 61, 62, 63, 64, 65, 66, 67, 68]\n"
     ]
    }
   ],
   "source": [
    "Lista1 = []\n",
    "for a in range (1, 69):\n",
    "    Lista1.append (a)\n",
    "print (Lista1)"
   ]
  },
  {
   "cell_type": "code",
   "execution_count": 29,
   "metadata": {},
   "outputs": [
    {
     "name": "stdout",
     "output_type": "stream",
     "text": [
      "[1, 2, 3, 4, 5, 6, 7, 8, 9, 10, 11, 12, 13, 14, 15, 16, 17, 18, 19, 20, 21, 22, 23, 24, 25, 26, 27, 28, 29, 30, 31, 32, 33, 34, 35, 36, 37, 38, 39, 40, 41, 42, 43, 44, 45, 46, 47, 48, 49, 50, 51, 52, 53, 54, 55, 56, 57, 58, 59, 60, 61, 62, 63, 64, 65, 66, 67, 68]\n",
      "((1, 'H'), (2, 'o'), (3, 'l'), (4, 'a'), (5, ' '), (6, 'M'), (7, 'u'), (8, 'n'), (9, 'd'), (10, 'o'), (11, '.'), (12, ' '), (13, 'E'), (14, 's'), (15, 't'), (16, 'o'), (17, ' '), (18, 'e'), (19, 's'), (20, ' '), (21, 'u'), (22, 'n'), (23, 'a'), (24, ' '), (25, 'p'), (26, 'r'), (27, 'a'), (28, 'c'), (29, 't'), (30, 'i'), (31, 'c'), (32, 'a'), (33, ' '), (34, 'd'), (35, 'e'), (36, 'l'), (37, ' '), (38, 'l'), (39, 'e'), (40, 'n'), (41, 'g'), (42, 'u'), (43, 'a'), (44, 'j'), (45, 'e'), (46, ' '), (47, 'd'), (48, 'e'), (49, ' '), (50, 'p'), (51, 'r'), (52, 'o'), (53, 'g'), (54, 'r'), (55, 'a'), (56, 'm'), (57, 'a'), (58, 'c'), (59, 'i'), (60, 'ó'), (61, 'n'), (62, ' '), (63, 'P'), (64, 'y'), (65, 't'), (66, 'h'), (67, 'o'), (68, 'n'))\n"
     ]
    }
   ],
   "source": [
    "Zip = tuple(zip(Lista1, list(cadena)))\n",
    "print (Zip)"
   ]
  },
  {
   "attachments": {},
   "cell_type": "markdown",
   "metadata": {},
   "source": [
    "14) A partir de la siguiente lista de números, crear una nueva sólo si el número es divisible por 7<br>\n",
    "lis = [18,21,29,32,35,42,56,60,63,71,84,90,91,100]"
   ]
  },
  {
   "cell_type": "code",
   "execution_count": 2,
   "metadata": {},
   "outputs": [
    {
     "name": "stdout",
     "output_type": "stream",
     "text": [
      "[21, 35, 42, 56, 63, 84, 91]\n"
     ]
    }
   ],
   "source": [
    "lis = [18,21,29,32,35,42,56,60,63,71,84,90,91,100]\n",
    "lis1 = []\n",
    "for n in lis:\n",
    "    if n % 7 == 0:\n",
    "        lis1.append (n)\n",
    "print (lis1)"
   ]
  },
  {
   "attachments": {},
   "cell_type": "markdown",
   "metadata": {},
   "source": [
    "15) A partir de la lista de a continuación, contar la cantidad total de elementos que contiene, teniendo en cuenta que un elemento de la lista podría ser otra lista:<br>\n",
    "lis = [[1,2,3,4],'rojo','verde',[True,False,False],['uno','dos','tres']]"
   ]
  },
  {
   "cell_type": "code",
   "execution_count": 47,
   "metadata": {},
   "outputs": [],
   "source": [
    "lis = [[1,2,3,4],'rojo','verde',[True,False,False],['uno','dos','tres']]"
   ]
  },
  {
   "cell_type": "code",
   "execution_count": 46,
   "metadata": {},
   "outputs": [
    {
     "name": "stdout",
     "output_type": "stream",
     "text": [
      "12\n"
     ]
    }
   ],
   "source": [
    "l1 = []\n",
    "l2 = []\n",
    "l3 = 0\n",
    "for i in lis:\n",
    "    if not type (i) == str:\n",
    "        l1.append (i)\n",
    "    if not type (i) == list:\n",
    "        l2.append (i)\n",
    "for e in l1:\n",
    "    l3 += len (e)\n",
    "print (len (l2) + l3)\n"
   ]
  },
  {
   "attachments": {},
   "cell_type": "markdown",
   "metadata": {},
   "source": [
    "16) Tomar la lista del punto anterior y convertir cada elemento en una lista si no lo es"
   ]
  },
  {
   "cell_type": "code",
   "execution_count": 49,
   "metadata": {},
   "outputs": [
    {
     "data": {
      "text/plain": [
       "[[1, 2, 3, 4],\n",
       " ['rojo'],\n",
       " ['verde'],\n",
       " [True, False, False],\n",
       " ['uno', 'dos', 'tres']]"
      ]
     },
     "execution_count": 49,
     "metadata": {},
     "output_type": "execute_result"
    }
   ],
   "source": [
    "for n, i in enumerate (lis):\n",
    "    if not type (i) == list:\n",
    "        lis [n] = [i]\n",
    "lis\n"
   ]
  }
 ],
 "metadata": {
  "interpreter": {
   "hash": "c85384e4cb51c8b72350f3a8712cc8351fdc3955e32a27f9b60c6242ab125f01"
  },
  "kernelspec": {
   "display_name": "Python 3 (ipykernel)",
   "language": "python",
   "name": "python3"
  },
  "language_info": {
   "codemirror_mode": {
    "name": "ipython",
    "version": 3
   },
   "file_extension": ".py",
   "mimetype": "text/x-python",
   "name": "python",
   "nbconvert_exporter": "python",
   "pygments_lexer": "ipython3",
   "version": "3.11.5"
  }
 },
 "nbformat": 4,
 "nbformat_minor": 4
}
