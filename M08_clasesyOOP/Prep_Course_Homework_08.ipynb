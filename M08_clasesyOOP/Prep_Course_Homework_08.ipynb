{
 "cells": [
  {
   "attachments": {},
   "cell_type": "markdown",
   "metadata": {},
   "source": [
    "## Clases y Programación Orientada a Objetos"
   ]
  },
  {
   "attachments": {},
   "cell_type": "markdown",
   "metadata": {},
   "source": [
    "1) Crear la clase vehículo que contenga los atributos:<br>\n",
    "Color<br>\n",
    "Si es moto, auto, camioneta ó camión<br>\n",
    "Cilindrada del motor"
   ]
  },
  {
   "cell_type": "code",
   "execution_count": 86,
   "metadata": {},
   "outputs": [],
   "source": [
    "class Vehículo:\n",
    "\n",
    "    def __init__ (self, color, tipo, cilindrada):\n",
    "        self.color = color\n",
    "        self.tipo = tipo\n",
    "        self.cilindrada = cilindrada"
   ]
  },
  {
   "attachments": {},
   "cell_type": "markdown",
   "metadata": {},
   "source": [
    "2) A la clase Vehiculo creada en el punto 1, agregar los siguientes métodos:<br>\n",
    "Acelerar<br>\n",
    "Frenar<br>\n",
    "Doblar<br>"
   ]
  },
  {
   "cell_type": "code",
   "execution_count": 87,
   "metadata": {},
   "outputs": [],
   "source": [
    "class Vehículo:\n",
    "\n",
    "    def __init__ (self, color, tipo, cilindrada):\n",
    "        self.color = color\n",
    "        self.tipo = tipo\n",
    "        self.cilindrada = cilindrada\n",
    "\n",
    "    def Acelerar (self):\n",
    "        print ('Acelerando')\n",
    "\n",
    "    def Frenar (self):\n",
    "        print ('Frenando')\n",
    "    \n",
    "    def Doblar (self):\n",
    "        print ('Doblando')\n",
    "\n",
    "    def Estado (self, velocidad, dirección):\n",
    "        self.velocidad = velocidad\n",
    "        self.dirección = dirección\n",
    "        print ('Va a', self.velocidad, 'hacia el', self.dirección)\n",
    "    \n",
    "    def Descripción (self):\n",
    "        print ('color:', self.color, 'Tipo:', self.tipo, 'Cilindrada:', self.cilindrada)"
   ]
  },
  {
   "attachments": {},
   "cell_type": "markdown",
   "metadata": {},
   "source": [
    "3) Instanciar 3 objetos de la clase vehículo y ejecutar sus métodos, probar luego el resultado"
   ]
  },
  {
   "cell_type": "code",
   "execution_count": 88,
   "metadata": {},
   "outputs": [],
   "source": [
    "class Moto(Vehículo):\n",
    "    pass"
   ]
  },
  {
   "cell_type": "code",
   "execution_count": 89,
   "metadata": {},
   "outputs": [
    {
     "name": "stdout",
     "output_type": "stream",
     "text": [
      "Acelerando\n",
      "Doblando\n",
      "Frenando\n"
     ]
    }
   ],
   "source": [
    "mi_moto = Moto('Negro', 'moto', 115)\n",
    "\n",
    "mi_moto.Acelerar()\n",
    "mi_moto.Doblar()\n",
    "mi_moto.Frenar()"
   ]
  },
  {
   "cell_type": "code",
   "execution_count": 90,
   "metadata": {},
   "outputs": [],
   "source": [
    "class Carro(Vehículo):\n",
    "    pass\n"
   ]
  },
  {
   "cell_type": "code",
   "execution_count": 91,
   "metadata": {},
   "outputs": [
    {
     "name": "stdout",
     "output_type": "stream",
     "text": [
      "Acelerando\n",
      "Doblando\n",
      "Frenando\n"
     ]
    }
   ],
   "source": [
    "mi_carro = Carro ('Gris', 'Carro', 1200)\n",
    "\n",
    "mi_carro.Acelerar()\n",
    "mi_carro.Doblar()\n",
    "mi_carro.Frenar()"
   ]
  },
  {
   "cell_type": "code",
   "execution_count": 92,
   "metadata": {},
   "outputs": [],
   "source": [
    "class Camión(Vehículo):\n",
    "    pass"
   ]
  },
  {
   "cell_type": "code",
   "execution_count": 93,
   "metadata": {},
   "outputs": [
    {
     "name": "stdout",
     "output_type": "stream",
     "text": [
      "Acelerando\n",
      "Doblando\n",
      "Frenando\n"
     ]
    }
   ],
   "source": [
    "mi_camión = Camión ('Azul', 'Camión', 1600)\n",
    "\n",
    "mi_camión.Acelerar()\n",
    "mi_camión.Doblar()\n",
    "mi_camión.Frenar()"
   ]
  },
  {
   "attachments": {},
   "cell_type": "markdown",
   "metadata": {},
   "source": [
    "4) Agregar a la clase Vehiculo, un método que muestre su estado, es decir, a que velocidad se encuentra y su dirección. Y otro método que muestre color, tipo y cilindrada"
   ]
  },
  {
   "cell_type": "code",
   "execution_count": 94,
   "metadata": {},
   "outputs": [
    {
     "name": "stdout",
     "output_type": "stream",
     "text": [
      "color: Negro Tipo: moto Cilindrada: 115\n"
     ]
    }
   ],
   "source": [
    "mi_moto.Descripción ()"
   ]
  },
  {
   "cell_type": "code",
   "execution_count": 95,
   "metadata": {},
   "outputs": [
    {
     "name": "stdout",
     "output_type": "stream",
     "text": [
      "Va a 60 km/h hacia el sur\n"
     ]
    }
   ],
   "source": [
    "mi_moto.Estado('60 km/h', 'sur')"
   ]
  },
  {
   "attachments": {},
   "cell_type": "markdown",
   "metadata": {},
   "source": [
    "5) Crear una clase que permita utilizar las funciones creadas en la práctica del módulo 7<br>\n",
    "Verificar Primo<br>\n",
    "Valor modal<br>\n",
    "Conversión grados<br>\n",
    "Factorial<br>"
   ]
  },
  {
   "cell_type": "code",
   "execution_count": 96,
   "metadata": {},
   "outputs": [],
   "source": [
    "def verifica_primo(nro):\n",
    "    es_primo = True  \n",
    "    for i in range(2, nro):  \n",
    "        if nro % i == 0: \n",
    "            es_primo = False  \n",
    "            break \n",
    "    return es_primo \n",
    "\n",
    "\n",
    "def valor_modal(lista):\n",
    "    lista_unicos = []\n",
    "    lista_repeticiones = []\n",
    "    if len(lista) == 0:\n",
    "        return None\n",
    "    for elemento in lista:\n",
    "        if elemento in lista_unicos:\n",
    "            i = lista_unicos.index(elemento)\n",
    "            lista_repeticiones[i] += 1\n",
    "        else:\n",
    "            lista_unicos.append(elemento)\n",
    "            lista_repeticiones.append(1)\n",
    "    moda = lista_unicos[0]\n",
    "    maximo = lista_repeticiones[0]\n",
    "    for i, elemento in enumerate(lista_unicos):\n",
    "        if lista_repeticiones[i] > maximo:\n",
    "            moda = lista_unicos[i]\n",
    "            maximo = lista_repeticiones[i]\n",
    "    return moda, maximo\n",
    "\n",
    "\n",
    "def conversion_grados(valor, origen, destino):\n",
    "    if origen == 'celsius':\n",
    "        if destino == 'celsius':\n",
    "            valor_destino = valor  \n",
    "        elif destino == 'farenheit':\n",
    "            valor_destino = (valor * 9 / 5) + 32 \n",
    "        elif destino == 'kelvin':\n",
    "            valor_destino = valor + 273.15 \n",
    "        else:\n",
    "            print('Parámetro de Destino incorrecto') \n",
    "    elif origen == 'farenheit':\n",
    "        if destino == 'celsius':\n",
    "            valor_destino = (valor - 32) * 5 / 9\n",
    "        elif destino == 'farenheit':\n",
    "            valor_destino = valor \n",
    "        elif destino == 'kelvin':\n",
    "            valor_destino = ((valor - 32) * 5 / 9) + 273.15  \n",
    "        else:\n",
    "            print('Parámetro de Destino incorrecto') \n",
    "    elif origen == 'kelvin':\n",
    "        if destino == 'celsius':\n",
    "            valor_destino = valor - 273.15  \n",
    "        elif destino == 'farenheit':\n",
    "            valor_destino = ((valor - 273.15) * 9 / 5) + 32  \n",
    "        elif destino == 'kelvin':\n",
    "            valor_destino = valor  \n",
    "        else:\n",
    "            print('Parámetro de Destino incorrecto')  \n",
    "    else:\n",
    "        print('Parámetro de Origen incorrecto') \n",
    "    \n",
    "    return valor_destino \n",
    "\n",
    "\n",
    "def factorial (a):\n",
    "    if type (a) != int:\n",
    "        a = int (a)\n",
    "    if a < 0:\n",
    "        Resultado = 'Para este número no se puede calcular factorial'\n",
    "    elif a > 1:\n",
    "        Resultado = a * factorial (a - 1)\n",
    "    else:\n",
    "        Resultado = 1\n",
    "    return Resultado"
   ]
  },
  {
   "cell_type": "code",
   "execution_count": 97,
   "metadata": {},
   "outputs": [],
   "source": [
    "class Dtodito:\n",
    "    \n",
    "    def __init__ (self):\n",
    "        pass\n",
    "\n",
    "    def Primo (num:int):\n",
    "        print (verifica_primo(num))\n",
    "\n",
    "    def mas_alto (lis:list):\n",
    "        print (valor_modal(lis))\n",
    "\n",
    "    def temp (valor, origen, destino):\n",
    "        print (conversion_grados(valor, origen, destino))\n",
    "\n",
    "    def Factorial (núm):\n",
    "        print (factorial(núm))"
   ]
  },
  {
   "attachments": {},
   "cell_type": "markdown",
   "metadata": {},
   "source": [
    "6) Probar las funciones incorporadas en la clase del punto 5"
   ]
  },
  {
   "cell_type": "code",
   "execution_count": 98,
   "metadata": {},
   "outputs": [
    {
     "name": "stdout",
     "output_type": "stream",
     "text": [
      "1\n"
     ]
    }
   ],
   "source": [
    "Dtodito.Factorial(0)"
   ]
  },
  {
   "cell_type": "code",
   "execution_count": 99,
   "metadata": {},
   "outputs": [
    {
     "name": "stdout",
     "output_type": "stream",
     "text": [
      "(5, 3)\n"
     ]
    }
   ],
   "source": [
    "lis = [1,1,5,6,8,10,22,5,6,4,11,9,5]\n",
    "\n",
    "Dtodito.mas_alto (lis)"
   ]
  },
  {
   "cell_type": "code",
   "execution_count": 100,
   "metadata": {},
   "outputs": [
    {
     "name": "stdout",
     "output_type": "stream",
     "text": [
      "True\n"
     ]
    }
   ],
   "source": [
    "Dtodito.Primo(5)"
   ]
  },
  {
   "cell_type": "code",
   "execution_count": 101,
   "metadata": {},
   "outputs": [
    {
     "name": "stdout",
     "output_type": "stream",
     "text": [
      "122.0\n"
     ]
    }
   ],
   "source": [
    "Dtodito.temp(50,'celsius', 'farenheit')"
   ]
  },
  {
   "attachments": {},
   "cell_type": "markdown",
   "metadata": {},
   "source": [
    "7) Es necesario que la clase creada en el punto 5 contenga una lista, sobre la cual se apliquen las funciones incorporadas"
   ]
  },
  {
   "cell_type": "code",
   "execution_count": 102,
   "metadata": {},
   "outputs": [],
   "source": [
    "class Dtodito:\n",
    "    \n",
    "    def __init__ (self, lista):\n",
    "        self.lista = lista\n",
    "\n",
    "    def Primo (self):\n",
    "        for i in self.lista:\n",
    "            if verifica_primo(i) == True:\n",
    "                print (f'{i} es primo')\n",
    "            else:\n",
    "                print (f'{i} no es primo')\n",
    "\n",
    "    def mas_alto (self):\n",
    "        print (valor_modal(self.lista))\n",
    "\n",
    "    def temp (self, origen, destino):\n",
    "        for i in self.lista:\n",
    "            print (f'{i} grados {origen} son {conversion_grados(i, origen, destino)} {destino}')\n",
    "\n",
    "    def Factorial (self):\n",
    "        for i in self.lista:\n",
    "            print (factorial(i))"
   ]
  },
  {
   "attachments": {},
   "cell_type": "markdown",
   "metadata": {},
   "source": [
    "8) Crear un archivo .py aparte y ubicar allí la clase generada en el punto anterior. Luego realizar la importación del módulo y probar alguna de sus funciones"
   ]
  },
  {
   "cell_type": "code",
   "execution_count": 103,
   "metadata": {},
   "outputs": [],
   "source": [
    "import Dtodito as dt"
   ]
  },
  {
   "cell_type": "code",
   "execution_count": 104,
   "metadata": {},
   "outputs": [],
   "source": [
    "Conseguir_factorial = dt.factorial (5)"
   ]
  },
  {
   "cell_type": "code",
   "execution_count": 105,
   "metadata": {},
   "outputs": [
    {
     "name": "stdout",
     "output_type": "stream",
     "text": [
      "120\n"
     ]
    }
   ],
   "source": [
    "print (Conseguir_factorial)"
   ]
  },
  {
   "cell_type": "code",
   "execution_count": null,
   "metadata": {},
   "outputs": [],
   "source": []
  }
 ],
 "metadata": {
  "interpreter": {
   "hash": "c85384e4cb51c8b72350f3a8712cc8351fdc3955e32a27f9b60c6242ab125f01"
  },
  "kernelspec": {
   "display_name": "Python 3 (ipykernel)",
   "language": "python",
   "name": "python3"
  },
  "language_info": {
   "codemirror_mode": {
    "name": "ipython",
    "version": 3
   },
   "file_extension": ".py",
   "mimetype": "text/x-python",
   "name": "python",
   "nbconvert_exporter": "python",
   "pygments_lexer": "ipython3",
   "version": "3.11.5"
  }
 },
 "nbformat": 4,
 "nbformat_minor": 4
}
